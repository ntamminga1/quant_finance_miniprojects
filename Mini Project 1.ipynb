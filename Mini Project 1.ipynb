{
 "cells": [
  {
   "cell_type": "markdown",
   "id": "957e7b08",
   "metadata": {},
   "source": [
    "# Mini Project 1\n",
    "\n",
    "**2025 Introduction to Quantiative Methods in Finance**\n",
    "\n",
    "**The Erdös Institute**\n",
    "\n",
    "**Instructions** Use current stock data to create two potentially profitable investment portfolios. One that is higher risk and one that is lower risk.\n",
    "\n",
    "-- You are to interpret and explain your interpretation of a high risk profile and low risk profile of a portfolio. You should provide some measurable quantitative data in your explanation."
   ]
  },
  {
   "cell_type": "markdown",
   "id": "b676d66b",
   "metadata": {},
   "source": [
    "## Import Packages"
   ]
  },
  {
   "cell_type": "code",
   "execution_count": 102,
   "id": "a89807b4",
   "metadata": {},
   "outputs": [],
   "source": [
    "import numpy as np\n",
    "import matplotlib.pyplot as plt\n",
    "import pandas as pd\n",
    "import seaborn as sns\n",
    "from scipy.optimize import minimize\n",
    "import datetime as dt\n",
    "sns.set_style('darkgrid')\n",
    "\n",
    "import yfinance as yf\n",
    "import bs4 as bs\n",
    "import requests\n",
    "import random"
   ]
  },
  {
   "cell_type": "markdown",
   "id": "bc68878e",
   "metadata": {},
   "source": [
    "## High Risk Portfolio"
   ]
  },
  {
   "cell_type": "markdown",
   "id": "393bd3be",
   "metadata": {},
   "source": [
    "For my high risk portfolio, I selected stocks in the technology sector that had a value of less than $5 per share. My thinking was technology seems like a more volitile sector, and low cost stocks are more likely to be volitile - like penny stocks. I randomly selected 10 stocks under these criteria. They are listed below in the ticker list."
   ]
  },
  {
   "cell_type": "code",
   "execution_count": 103,
   "id": "91c8931f",
   "metadata": {},
   "outputs": [
    {
     "name": "stderr",
     "output_type": "stream",
     "text": [
      "[*********************100%***********************]  10 of 10 completed\n"
     ]
    }
   ],
   "source": [
    "# List of tickers for the stocks to be analyzed\n",
    "tickers_high = ['WIT', 'DIDIY', 'ZTCOF', 'GRAB', 'LNVGF', 'BYDIF', 'HHUSF', 'HPHTY', 'BB', 'AWEVF']\n",
    "\n",
    "# Set the date range for the past two years\n",
    "start_date = dt.datetime.today()-dt.timedelta(days = 2*365)\n",
    "end_date = dt.datetime.today()\n",
    "\n",
    "# Download stock data\n",
    "stock = yf.download(tickers_high, start = start_date, end = end_date)"
   ]
  },
  {
   "cell_type": "code",
   "execution_count": 104,
   "id": "7cfb04d8",
   "metadata": {},
   "outputs": [],
   "source": [
    "# Create a dataframe of daily returns - log is taken to reduce computational complexity\n",
    "daily_returns = np.log(stock['Close']/stock['Close'].shift(1))\n",
    "daily_returns = daily_returns.dropna()\n",
    "\n",
    "\n",
    "# Create a dictionary of standard deviations of daily return\n",
    "# Normalize the standard deviation for yearly by multiplying by sqrt(number of trading days in year ~ 252)\n",
    "annualized_volatility_high = {ticker: np.std(daily_returns[ticker])*np.sqrt(252) for ticker in tickers_high}"
   ]
  },
  {
   "cell_type": "code",
   "execution_count": 105,
   "id": "d372702f",
   "metadata": {},
   "outputs": [],
   "source": [
    "# Calculate the covariance matrix\n",
    "covariance_matrix_high = 252*((daily_returns).cov())"
   ]
  },
  {
   "cell_type": "code",
   "execution_count": 106,
   "id": "9c5da097",
   "metadata": {},
   "outputs": [],
   "source": [
    "# Use scipy minimize to find the optimal weights for the portfolio to minimize volatility\n",
    "# Constraints for the portfolio weights:\n",
    "    # 1) Sum of weights equals 1\n",
    "    # 2) No weight can be less than 0\n",
    "    # 3) No weight can be greater than 0.25\n",
    "\n",
    "# Number of assets\n",
    "n_assets = len(tickers_high)\n",
    "\n",
    "# Define an initial guess for asset weights as equal distribution\n",
    "initial_weights = np.array([1/n_assets] * n_assets)\n",
    "\n",
    "# Define weight constraints listed above\n",
    "constraints = ({'type': 'eq', 'fun': lambda weights: np.sum(weights)-1},\n",
    "               {'type': 'ineq', 'fun': lambda weights: min(weights)},\n",
    "              {'type': 'ineq', 'fun': lambda weights: .25-max(weights)})\n",
    "\n",
    "# Define the objective function to minimize portfolio variance\n",
    "def portfolio_volatility(weights):\n",
    "    portfolio_std_dev = np.sqrt(np.dot(weights.T, np.dot(covariance_matrix_high, weights)))\n",
    "    return portfolio_std_dev\n",
    "\n",
    "# Run the optimization to find the optimal weights\n",
    "result_high = minimize(portfolio_volatility, initial_weights, constraints=constraints)\n",
    "\n",
    "# Optimal asset weights\n",
    "optimal_weights_high = result_high.x"
   ]
  },
  {
   "cell_type": "markdown",
   "id": "ceced76b",
   "metadata": {},
   "source": [
    "## Low Risk Portfolio"
   ]
  },
  {
   "cell_type": "markdown",
   "id": "ebcf455c",
   "metadata": {},
   "source": [
    "For my low risk portfolio, I will randomly select 10 stocks from the S&P500 to use. My thought process was that this should typically follow market trends and have a relatively low volatility."
   ]
  },
  {
   "cell_type": "code",
   "execution_count": 107,
   "id": "901a0a25",
   "metadata": {},
   "outputs": [],
   "source": [
    "# Get the list of S&P 500 tickers from Wikipedia\n",
    "# Get the web data from the Wikipedia page\n",
    "resp = requests.get('http://en.wikipedia.org/wiki/List_of_S%26P_500_companies')\n",
    "# Parse the HTML content using BeautifulSoup\n",
    "soup = bs.BeautifulSoup(resp.text, 'lxml') \n",
    "# Find the table containing the S&P 500 tickers_high\n",
    "table = soup.find('table', {'class': 'wikitable sortable sticky-header', 'id': 'constituents'})\n",
    "tickers = []\n",
    "\n",
    "# Extract the tickers from the table\n",
    "for row in table.findAll('tr')[1:]:\n",
    "    ticker = row.findAll('td')[0].text\n",
    "    tickers.append(ticker)\n",
    "\n",
    "# Clean the tickers\n",
    "tickers = [s.replace('\\n', '') for s in tickers]\n",
    "tickers = [s.replace('.', '-') for s in tickers]\n",
    "\n",
    "# Randomly select 10 tickers from the S&P 500 list\n",
    "rand_tickers = random.sample(tickers, 10)"
   ]
  },
  {
   "cell_type": "code",
   "execution_count": 108,
   "id": "6d786e6f",
   "metadata": {},
   "outputs": [
    {
     "name": "stderr",
     "output_type": "stream",
     "text": [
      "[*********************100%***********************]  10 of 10 completed\n"
     ]
    }
   ],
   "source": [
    "# Set the date range for the past two years\n",
    "start_date = dt.datetime.today()-dt.timedelta(days = 2*365)\n",
    "end_date = dt.datetime.today()\n",
    "\n",
    "# Download stock data\n",
    "stock = yf.download(rand_tickers, start = start_date, end = end_date)"
   ]
  },
  {
   "cell_type": "code",
   "execution_count": 109,
   "id": "54e321eb",
   "metadata": {},
   "outputs": [],
   "source": [
    "# Create a dataframe of daily returns - log is taken to reduce computational complexity\n",
    "daily_returns = np.log(stock['Close']/stock['Close'].shift(1))\n",
    "daily_returns = daily_returns.dropna()\n",
    "\n",
    "\n",
    "# Create a dictionary of standard deviations of daily return\n",
    "# Normalize the standard deviation for yearly by multiplying by sqrt(number of trading days in year ~ 252)\n",
    "annualized_volatility_low = {ticker: np.std(daily_returns[ticker])*np.sqrt(252) for ticker in rand_tickers}"
   ]
  },
  {
   "cell_type": "code",
   "execution_count": 110,
   "id": "28fb0db7",
   "metadata": {},
   "outputs": [],
   "source": [
    "# Calculate the covariance matrix\n",
    "covariance_matrix_low = 252*((daily_returns).cov())"
   ]
  },
  {
   "cell_type": "code",
   "execution_count": 111,
   "id": "40ce2bdd",
   "metadata": {},
   "outputs": [],
   "source": [
    "# Use scipy minimize to find the optimal weights for the portfolio to minimize volatility\n",
    "# Constraints for the portfolio weights:\n",
    "    # 1) Sum of weights equals 1\n",
    "    # 2) No weight can be less than 0\n",
    "    # 3) No weight can be greater than 0.25\n",
    "\n",
    "# Number of assets\n",
    "n_assets = len(rand_tickers)\n",
    "\n",
    "# Define an initial guess for asset weights as equal distribution\n",
    "initial_weights = np.array([1/n_assets] * n_assets)\n",
    "\n",
    "# Define weight constraints listed above\n",
    "constraints = ({'type': 'eq', 'fun': lambda weights: np.sum(weights)-1},\n",
    "               {'type': 'ineq', 'fun': lambda weights: min(weights)},\n",
    "              {'type': 'ineq', 'fun': lambda weights: .25-max(weights)})\n",
    "\n",
    "# Define the objective function to minimize portfolio variance\n",
    "def portfolio_volatility(weights):\n",
    "    portfolio_std_dev = np.sqrt(np.dot(weights.T, np.dot(covariance_matrix_low, weights)))\n",
    "    return portfolio_std_dev\n",
    "\n",
    "# Run the optimization to find the optimal weights\n",
    "result_low = minimize(portfolio_volatility, initial_weights, constraints=constraints)\n",
    "\n",
    "# Optimal asset weights\n",
    "optimal_weights = result_low.x"
   ]
  },
  {
   "cell_type": "markdown",
   "id": "c409bd66",
   "metadata": {},
   "source": [
    "## Portfolio Comparison"
   ]
  },
  {
   "cell_type": "markdown",
   "id": "85d5702b",
   "metadata": {},
   "source": [
    "First, let's see the portfolio volitility comparison"
   ]
  },
  {
   "cell_type": "code",
   "execution_count": 112,
   "id": "3e09d3c2",
   "metadata": {},
   "outputs": [
    {
     "name": "stdout",
     "output_type": "stream",
     "text": [
      " The optimal volatility subject to the constraints for the low risk portfolio is 0.14758082060166325\n",
      " The optimal volatility subject to the constraints for the high risk portfolio is 0.2503089185134767\n"
     ]
    }
   ],
   "source": [
    "print(f' The optimal volatility subject to the constraints for the low risk portfolio is {result_low.fun}')\n",
    "print(f' The optimal volatility subject to the constraints for the high risk portfolio is {result_high.fun}')"
   ]
  },
  {
   "cell_type": "markdown",
   "id": "ded25dac",
   "metadata": {},
   "source": [
    "As we see above, the low risk portfolio is much less volitile than the high risk portfolio. This makes sense when you look at the annulized volatility of the two sets of stocks. The individual volatilities for the high risk stocks are much higher than those of the low risk stocks."
   ]
  },
  {
   "cell_type": "code",
   "execution_count": 113,
   "id": "84b95138",
   "metadata": {},
   "outputs": [
    {
     "name": "stdout",
     "output_type": "stream",
     "text": [
      "The annualized volatility for the low risk stocks is\n",
      "BALL: 0.2732\n",
      "AZO: 0.2125\n",
      "AKAM: 0.3467\n",
      "DVA: 0.3370\n",
      "DG: 0.4598\n",
      "IQV: 0.3063\n",
      "LVS: 0.3315\n",
      "HUM: 0.3950\n",
      "TMO: 0.2439\n",
      "VTR: 0.2426\n",
      "\n",
      "The annualized volatility for the high risk stocks is\n",
      "WIT: 0.2836\n",
      "DIDIY: 0.5078\n",
      "ZTCOF: 1.0403\n",
      "GRAB: 0.5510\n",
      "LNVGF: 0.9141\n",
      "BYDIF: 0.7793\n",
      "HHUSF: 1.0892\n",
      "HPHTY: 0.7202\n",
      "BB: 0.6289\n",
      "AWEVF: 0.9430\n"
     ]
    }
   ],
   "source": [
    "print(f'The annualized volatility for the low risk stocks is')\n",
    "for stock in annualized_volatility_low: print(f'{stock}: {annualized_volatility_low[stock]:.4f}')\n",
    "print('')\n",
    "print(f'The annualized volatility for the high risk stocks is')\n",
    "for stock in annualized_volatility_high: print(f'{stock}: {annualized_volatility_high[stock]:.4f}')"
   ]
  },
  {
   "cell_type": "markdown",
   "id": "3b21cca6",
   "metadata": {},
   "source": [
    "The weights our optimizer selected for each portfolio are listed below:"
   ]
  },
  {
   "cell_type": "code",
   "execution_count": 114,
   "id": "3d6375b9",
   "metadata": {},
   "outputs": [
    {
     "name": "stdout",
     "output_type": "stream",
     "text": [
      "Optimal weights for low volatility profile:\n",
      "BALL: Weight = 0.0663\n",
      "AZO: Weight = 0.2500\n",
      "AKAM: Weight = 0.0719\n",
      "DVA: Weight = 0.0559\n",
      "DG: Weight = 0.0973\n",
      "IQV: Weight = 0.0818\n",
      "LVS: Weight = -0.0000\n",
      "HUM: Weight = 0.0390\n",
      "TMO: Weight = 0.1180\n",
      "VTR: Weight = 0.2198\n",
      "\n",
      "Optimal weights for high volatility profile:\n",
      "WIT: Weight = 0.0466\n",
      "DIDIY: Weight = 0.0909\n",
      "ZTCOF: Weight = 0.0436\n",
      "GRAB: Weight = 0.1281\n",
      "LNVGF: Weight = 0.1664\n",
      "BYDIF: Weight = 0.0396\n",
      "HHUSF: Weight = 0.1825\n",
      "HPHTY: Weight = 0.0171\n",
      "BB: Weight = 0.2500\n",
      "AWEVF: Weight = 0.0352\n"
     ]
    }
   ],
   "source": [
    "print(\"Optimal weights for low volatility profile:\")\n",
    "for ticker, weight in zip(rand_tickers, optimal_weights):\n",
    "    print(f\"{ticker}: Weight = {weight:.4f}\")\n",
    "print('')\n",
    "print(\"Optimal weights for high volatility profile:\")\n",
    "for ticker, weight in zip(tickers_high, optimal_weights_high):\n",
    "    print(f\"{ticker}: Weight = {weight:.4f}\")"
   ]
  }
 ],
 "metadata": {
  "kernelspec": {
   "display_name": "Python 3",
   "language": "python",
   "name": "python3"
  },
  "language_info": {
   "codemirror_mode": {
    "name": "ipython",
    "version": 3
   },
   "file_extension": ".py",
   "mimetype": "text/x-python",
   "name": "python",
   "nbconvert_exporter": "python",
   "pygments_lexer": "ipython3",
   "version": "3.9.15"
  }
 },
 "nbformat": 4,
 "nbformat_minor": 5
}
